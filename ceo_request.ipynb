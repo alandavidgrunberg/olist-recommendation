{
 "cells": [
  {
   "cell_type": "markdown",
   "metadata": {
    "slideshow": {
     "slide_type": "slide"
    }
   },
   "source": [
    "# CEO-Request Challenge"
   ]
  },
  {
   "cell_type": "markdown",
   "metadata": {
    "slideshow": {
     "slide_type": "skip"
    }
   },
   "source": [
    "## 1. Problem statement (summarized)\n",
    "\n",
    ">❓ How should Olist improve its profit margin ❓, given that it has \n",
    "> - some revenues per sellers per months\n",
    "> - some revenues per orders\n",
    "> - some reputation costs (estimated) per bad reviews\n",
    "> - some operational costs of IT system that grows with number of orders, but not linearly (scale effects)\n",
    "\n",
    "\n",
    "Let's recap our key findings so far :\n",
    "- We have seen that `wait_time` was the most significant factor behind low review scores, but reading comments of the bad reviews also showed that some of them were linked to the seller or to the product itself.\n",
    "- `wait_time` is made up of seller's `delay_to_carrier` + `carrier_delivery_time`. The latter being outside of Olist's direct control, improving it is not a quick-win recommendation we can make to Olist CEO without in-depth analysis of their operational practices.\n",
    "- On the contrary, a better selection of `sellers` can positively impact the `delay_to_carrier` and reduce the number of bad `review_scores` on Olist.\n",
    "\n",
    "👉 We recommend you to start with the the seller analysis 1.1) below, but feel free to investigate into other hypothesis instead 1.2)"
   ]
  },
  {
   "cell_type": "markdown",
   "metadata": {
    "slideshow": {
     "slide_type": "skip"
    }
   },
   "source": [
    "### 1.1 (recommended) **Should Olist remove underperforming sellers from its marketplace ?** 🕵🏻"
   ]
  },
  {
   "cell_type": "markdown",
   "metadata": {
    "slideshow": {
     "slide_type": "skip"
    }
   },
   "source": [
    "To analyse the impact of removing the worse sellers from Olist's marketplace, we will perform a what-if analysis: What would have happened if Olist had never accepted these sellers in the first place? (granted, it's hard to know in advance who is a good seller, but let's start with this and iterate later).\n",
    "\n",
    "1️⃣ Compute, for each `seller_id`, and cumulated since the beginning:\n",
    "- the `revenues` it brings\n",
    "- the `costs` associated with all its bad reviews\n",
    "- the resulting `profits` (revenues - costs)\n",
    "- the number of `orders` (it will impact the overall IT costs)\n",
    "\n",
    "\n",
    "2️⃣ We can then:\n",
    "- sort sellers by increasing profits for Olist\n",
    "- for each number of sellers to remove, compute the financial impact it would have made if they had never been accepted on the platform. \n",
    "- we may find an optimal number of sellers to remove that maximizes Olist's profit margin\n",
    "\n",
    "👉 Write down a detailed strategy (step by step) to create the DataFrame you need for the first step.\n",
    "\n",
    "<br>\n",
    "\n",
    "<details>\n",
    "    <summary> <i>💡 Think about how to re-use or update the logic you've already coded in your 🗂 `olist` package</i> </summary>\n",
    "\n",
    "\n",
    "Starting from your current `seller().get_training_data()` DataFrame, can you easily transform it to compute:\n",
    "- Olist's positive `revenue_per_seller`? \n",
    "- Olist's `cost_of_bad_reviews`?\n",
    "\n",
    "You will orally present your insights to your favorite TA at the end of this unit `Communicate` \"\n",
    "</details>\n"
   ]
  },
  {
   "cell_type": "markdown",
   "metadata": {
    "slideshow": {
     "slide_type": "skip"
    }
   },
   "source": [
    "### 1.2 (optional): Here are other hypothesis you may want to investigate instead\n",
    "\n",
    "- Should Olist remove the worst performing products / categories from its marketplace entirely?\n",
    "- Should Olist remove only consistently underperforming sellers, after it has a honeymoon period of few months?\n",
    "- Should Olist restrict seller/customer pairs between certain states to avoid delays?\n",
    "- Should Olist acquire new sellers, with some cost assumptions to be suggested?\n",
    "- ...\n"
   ]
  },
  {
   "cell_type": "markdown",
   "metadata": {
    "slideshow": {
     "slide_type": "skip"
    }
   },
   "source": [
    "## Your turn!"
   ]
  },
  {
   "cell_type": "markdown",
   "metadata": {
    "slideshow": {
     "slide_type": "skip"
    }
   },
   "source": [
    "🧺 Keep this notebook tidy! \n",
    "\n",
    "📅 🗣 📊 You will orally present your insights to your favorite TA at the end of this unit `Communicate`"
   ]
  },
  {
   "cell_type": "code",
   "execution_count": 1,
   "metadata": {
    "slideshow": {
     "slide_type": "skip"
    }
   },
   "outputs": [],
   "source": [
    "%load_ext autoreload\n",
    "%autoreload 2\n",
    "\n",
    "import pandas as pd\n",
    "import numpy as np \n",
    "import matplotlib.pyplot as plt\n",
    "import seaborn as sns\n",
    "import statsmodels.formula.api as smf"
   ]
  },
  {
   "cell_type": "code",
   "execution_count": 2,
   "metadata": {
    "slideshow": {
     "slide_type": "subslide"
    }
   },
   "outputs": [
    {
     "data": {
      "text/html": [
       "<div>\n",
       "<style scoped>\n",
       "    .dataframe tbody tr th:only-of-type {\n",
       "        vertical-align: middle;\n",
       "    }\n",
       "\n",
       "    .dataframe tbody tr th {\n",
       "        vertical-align: top;\n",
       "    }\n",
       "\n",
       "    .dataframe thead th {\n",
       "        text-align: right;\n",
       "    }\n",
       "</style>\n",
       "<table border=\"1\" class=\"dataframe\">\n",
       "  <thead>\n",
       "    <tr style=\"text-align: right;\">\n",
       "      <th></th>\n",
       "      <th>seller_id</th>\n",
       "      <th>months_on_olist</th>\n",
       "      <th>orders</th>\n",
       "      <th>sales</th>\n",
       "      <th>3_star_reviews</th>\n",
       "      <th>2_star_reviews</th>\n",
       "      <th>1_star_reviews</th>\n",
       "    </tr>\n",
       "  </thead>\n",
       "  <tbody>\n",
       "    <tr>\n",
       "      <th>0</th>\n",
       "      <td>3442f8959a84dea7ee197c632cb2df15</td>\n",
       "      <td>5.0</td>\n",
       "      <td>3</td>\n",
       "      <td>218.70</td>\n",
       "      <td>1.0</td>\n",
       "      <td>0.0</td>\n",
       "      <td>1.0</td>\n",
       "    </tr>\n",
       "    <tr>\n",
       "      <th>1</th>\n",
       "      <td>d1b65fc7debc3361ea86b5f14c68d2e2</td>\n",
       "      <td>15.0</td>\n",
       "      <td>40</td>\n",
       "      <td>11703.07</td>\n",
       "      <td>1.0</td>\n",
       "      <td>0.0</td>\n",
       "      <td>2.0</td>\n",
       "    </tr>\n",
       "    <tr>\n",
       "      <th>2</th>\n",
       "      <td>ce3ad9de960102d0677a81f5d0bb7b2d</td>\n",
       "      <td>1.0</td>\n",
       "      <td>1</td>\n",
       "      <td>158.00</td>\n",
       "      <td>0.0</td>\n",
       "      <td>0.0</td>\n",
       "      <td>0.0</td>\n",
       "    </tr>\n",
       "    <tr>\n",
       "      <th>3</th>\n",
       "      <td>c0f3eea2e14555b6faeea3dd58c1b1c3</td>\n",
       "      <td>1.0</td>\n",
       "      <td>1</td>\n",
       "      <td>79.99</td>\n",
       "      <td>0.0</td>\n",
       "      <td>0.0</td>\n",
       "      <td>0.0</td>\n",
       "    </tr>\n",
       "    <tr>\n",
       "      <th>4</th>\n",
       "      <td>51a04a8a6bdcb23deccc82b0b80742cf</td>\n",
       "      <td>1.0</td>\n",
       "      <td>1</td>\n",
       "      <td>167.99</td>\n",
       "      <td>0.0</td>\n",
       "      <td>0.0</td>\n",
       "      <td>0.0</td>\n",
       "    </tr>\n",
       "    <tr>\n",
       "      <th>...</th>\n",
       "      <td>...</td>\n",
       "      <td>...</td>\n",
       "      <td>...</td>\n",
       "      <td>...</td>\n",
       "      <td>...</td>\n",
       "      <td>...</td>\n",
       "      <td>...</td>\n",
       "    </tr>\n",
       "    <tr>\n",
       "      <th>3090</th>\n",
       "      <td>98dddbc4601dd4443ca174359b237166</td>\n",
       "      <td>1.0</td>\n",
       "      <td>2</td>\n",
       "      <td>158.00</td>\n",
       "      <td>0.0</td>\n",
       "      <td>0.0</td>\n",
       "      <td>0.0</td>\n",
       "    </tr>\n",
       "    <tr>\n",
       "      <th>3091</th>\n",
       "      <td>f8201cab383e484733266d1906e2fdfa</td>\n",
       "      <td>15.0</td>\n",
       "      <td>10</td>\n",
       "      <td>889.00</td>\n",
       "      <td>1.0</td>\n",
       "      <td>0.0</td>\n",
       "      <td>1.0</td>\n",
       "    </tr>\n",
       "    <tr>\n",
       "      <th>3092</th>\n",
       "      <td>74871d19219c7d518d0090283e03c137</td>\n",
       "      <td>6.0</td>\n",
       "      <td>6</td>\n",
       "      <td>550.04</td>\n",
       "      <td>0.0</td>\n",
       "      <td>0.0</td>\n",
       "      <td>0.0</td>\n",
       "    </tr>\n",
       "    <tr>\n",
       "      <th>3093</th>\n",
       "      <td>e603cf3fec55f8697c9059638d6c8eb5</td>\n",
       "      <td>5.0</td>\n",
       "      <td>8</td>\n",
       "      <td>297.00</td>\n",
       "      <td>0.0</td>\n",
       "      <td>0.0</td>\n",
       "      <td>0.0</td>\n",
       "    </tr>\n",
       "    <tr>\n",
       "      <th>3094</th>\n",
       "      <td>9e25199f6ef7e7c347120ff175652c3b</td>\n",
       "      <td>1.0</td>\n",
       "      <td>1</td>\n",
       "      <td>12.50</td>\n",
       "      <td>0.0</td>\n",
       "      <td>0.0</td>\n",
       "      <td>0.0</td>\n",
       "    </tr>\n",
       "  </tbody>\n",
       "</table>\n",
       "<p>3095 rows × 7 columns</p>\n",
       "</div>"
      ],
      "text/plain": [
       "                             seller_id  months_on_olist  orders     sales  \\\n",
       "0     3442f8959a84dea7ee197c632cb2df15              5.0       3    218.70   \n",
       "1     d1b65fc7debc3361ea86b5f14c68d2e2             15.0      40  11703.07   \n",
       "2     ce3ad9de960102d0677a81f5d0bb7b2d              1.0       1    158.00   \n",
       "3     c0f3eea2e14555b6faeea3dd58c1b1c3              1.0       1     79.99   \n",
       "4     51a04a8a6bdcb23deccc82b0b80742cf              1.0       1    167.99   \n",
       "...                                ...              ...     ...       ...   \n",
       "3090  98dddbc4601dd4443ca174359b237166              1.0       2    158.00   \n",
       "3091  f8201cab383e484733266d1906e2fdfa             15.0      10    889.00   \n",
       "3092  74871d19219c7d518d0090283e03c137              6.0       6    550.04   \n",
       "3093  e603cf3fec55f8697c9059638d6c8eb5              5.0       8    297.00   \n",
       "3094  9e25199f6ef7e7c347120ff175652c3b              1.0       1     12.50   \n",
       "\n",
       "      3_star_reviews  2_star_reviews  1_star_reviews  \n",
       "0                1.0             0.0             1.0  \n",
       "1                1.0             0.0             2.0  \n",
       "2                0.0             0.0             0.0  \n",
       "3                0.0             0.0             0.0  \n",
       "4                0.0             0.0             0.0  \n",
       "...              ...             ...             ...  \n",
       "3090             0.0             0.0             0.0  \n",
       "3091             1.0             0.0             1.0  \n",
       "3092             0.0             0.0             0.0  \n",
       "3093             0.0             0.0             0.0  \n",
       "3094             0.0             0.0             0.0  \n",
       "\n",
       "[3095 rows x 7 columns]"
      ]
     },
     "execution_count": 2,
     "metadata": {},
     "output_type": "execute_result"
    }
   ],
   "source": [
    "from olist.ceorequest import Request\n",
    "request = Request()\n",
    "data = request.get_data()\n",
    "data"
   ]
  },
  {
   "cell_type": "code",
   "execution_count": 3,
   "metadata": {
    "slideshow": {
     "slide_type": "subslide"
    },
    "tags": [
     "remove_input"
    ]
   },
   "outputs": [
    {
     "data": {
      "text/html": [
       "<div>\n",
       "<style scoped>\n",
       "    .dataframe tbody tr th:only-of-type {\n",
       "        vertical-align: middle;\n",
       "    }\n",
       "\n",
       "    .dataframe tbody tr th {\n",
       "        vertical-align: top;\n",
       "    }\n",
       "\n",
       "    .dataframe thead th {\n",
       "        text-align: right;\n",
       "    }\n",
       "</style>\n",
       "<table border=\"1\" class=\"dataframe\">\n",
       "  <thead>\n",
       "    <tr style=\"text-align: right;\">\n",
       "      <th></th>\n",
       "      <th>sales</th>\n",
       "      <th>ten_percent_cut</th>\n",
       "    </tr>\n",
       "  </thead>\n",
       "  <tbody>\n",
       "    <tr>\n",
       "      <th>0</th>\n",
       "      <td>218.70</td>\n",
       "      <td>21.870</td>\n",
       "    </tr>\n",
       "    <tr>\n",
       "      <th>1</th>\n",
       "      <td>11703.07</td>\n",
       "      <td>1170.307</td>\n",
       "    </tr>\n",
       "    <tr>\n",
       "      <th>2</th>\n",
       "      <td>158.00</td>\n",
       "      <td>15.800</td>\n",
       "    </tr>\n",
       "    <tr>\n",
       "      <th>3</th>\n",
       "      <td>79.99</td>\n",
       "      <td>7.999</td>\n",
       "    </tr>\n",
       "    <tr>\n",
       "      <th>4</th>\n",
       "      <td>167.99</td>\n",
       "      <td>16.799</td>\n",
       "    </tr>\n",
       "  </tbody>\n",
       "</table>\n",
       "</div>"
      ],
      "text/plain": [
       "      sales  ten_percent_cut\n",
       "0    218.70           21.870\n",
       "1  11703.07         1170.307\n",
       "2    158.00           15.800\n",
       "3     79.99            7.999\n",
       "4    167.99           16.799"
      ]
     },
     "execution_count": 3,
     "metadata": {},
     "output_type": "execute_result"
    }
   ],
   "source": [
    "data['ten_percent_cut'] = data['sales']/10\n",
    "data[['sales','ten_percent_cut']].head()"
   ]
  },
  {
   "cell_type": "code",
   "execution_count": 4,
   "metadata": {
    "slideshow": {
     "slide_type": "subslide"
    },
    "tags": [
     "remove_input"
    ]
   },
   "outputs": [
    {
     "data": {
      "text/html": [
       "<div>\n",
       "<style scoped>\n",
       "    .dataframe tbody tr th:only-of-type {\n",
       "        vertical-align: middle;\n",
       "    }\n",
       "\n",
       "    .dataframe tbody tr th {\n",
       "        vertical-align: top;\n",
       "    }\n",
       "\n",
       "    .dataframe thead th {\n",
       "        text-align: right;\n",
       "    }\n",
       "</style>\n",
       "<table border=\"1\" class=\"dataframe\">\n",
       "  <thead>\n",
       "    <tr style=\"text-align: right;\">\n",
       "      <th></th>\n",
       "      <th>months_on_olist</th>\n",
       "      <th>monthly_charge_total</th>\n",
       "    </tr>\n",
       "  </thead>\n",
       "  <tbody>\n",
       "    <tr>\n",
       "      <th>0</th>\n",
       "      <td>5.0</td>\n",
       "      <td>400.0</td>\n",
       "    </tr>\n",
       "    <tr>\n",
       "      <th>1</th>\n",
       "      <td>15.0</td>\n",
       "      <td>1200.0</td>\n",
       "    </tr>\n",
       "    <tr>\n",
       "      <th>2</th>\n",
       "      <td>1.0</td>\n",
       "      <td>80.0</td>\n",
       "    </tr>\n",
       "    <tr>\n",
       "      <th>3</th>\n",
       "      <td>1.0</td>\n",
       "      <td>80.0</td>\n",
       "    </tr>\n",
       "    <tr>\n",
       "      <th>4</th>\n",
       "      <td>1.0</td>\n",
       "      <td>80.0</td>\n",
       "    </tr>\n",
       "  </tbody>\n",
       "</table>\n",
       "</div>"
      ],
      "text/plain": [
       "   months_on_olist  monthly_charge_total\n",
       "0              5.0                 400.0\n",
       "1             15.0                1200.0\n",
       "2              1.0                  80.0\n",
       "3              1.0                  80.0\n",
       "4              1.0                  80.0"
      ]
     },
     "execution_count": 4,
     "metadata": {},
     "output_type": "execute_result"
    }
   ],
   "source": [
    "data['monthly_charge_total'] = data['months_on_olist'] * 80\n",
    "data[['months_on_olist','monthly_charge_total']].head()"
   ]
  },
  {
   "cell_type": "code",
   "execution_count": 5,
   "metadata": {
    "slideshow": {
     "slide_type": "subslide"
    },
    "tags": [
     "remove_input"
    ]
   },
   "outputs": [
    {
     "data": {
      "text/html": [
       "<div>\n",
       "<style scoped>\n",
       "    .dataframe tbody tr th:only-of-type {\n",
       "        vertical-align: middle;\n",
       "    }\n",
       "\n",
       "    .dataframe tbody tr th {\n",
       "        vertical-align: top;\n",
       "    }\n",
       "\n",
       "    .dataframe thead th {\n",
       "        text-align: right;\n",
       "    }\n",
       "</style>\n",
       "<table border=\"1\" class=\"dataframe\">\n",
       "  <thead>\n",
       "    <tr style=\"text-align: right;\">\n",
       "      <th></th>\n",
       "      <th>ten_percent_cut</th>\n",
       "      <th>monthly_charge_total</th>\n",
       "      <th>revenues</th>\n",
       "    </tr>\n",
       "  </thead>\n",
       "  <tbody>\n",
       "    <tr>\n",
       "      <th>0</th>\n",
       "      <td>21.870</td>\n",
       "      <td>400.0</td>\n",
       "      <td>421.87</td>\n",
       "    </tr>\n",
       "    <tr>\n",
       "      <th>1</th>\n",
       "      <td>1170.307</td>\n",
       "      <td>1200.0</td>\n",
       "      <td>2370.31</td>\n",
       "    </tr>\n",
       "    <tr>\n",
       "      <th>2</th>\n",
       "      <td>15.800</td>\n",
       "      <td>80.0</td>\n",
       "      <td>95.80</td>\n",
       "    </tr>\n",
       "    <tr>\n",
       "      <th>3</th>\n",
       "      <td>7.999</td>\n",
       "      <td>80.0</td>\n",
       "      <td>88.00</td>\n",
       "    </tr>\n",
       "    <tr>\n",
       "      <th>4</th>\n",
       "      <td>16.799</td>\n",
       "      <td>80.0</td>\n",
       "      <td>96.80</td>\n",
       "    </tr>\n",
       "  </tbody>\n",
       "</table>\n",
       "</div>"
      ],
      "text/plain": [
       "   ten_percent_cut  monthly_charge_total  revenues\n",
       "0           21.870                 400.0    421.87\n",
       "1         1170.307                1200.0   2370.31\n",
       "2           15.800                  80.0     95.80\n",
       "3            7.999                  80.0     88.00\n",
       "4           16.799                  80.0     96.80"
      ]
     },
     "execution_count": 5,
     "metadata": {},
     "output_type": "execute_result"
    }
   ],
   "source": [
    "data['revenues'] = round(data['ten_percent_cut'] + data['monthly_charge_total'],2)\n",
    "data[['ten_percent_cut','monthly_charge_total','revenues']].head()"
   ]
  },
  {
   "cell_type": "code",
   "execution_count": 6,
   "metadata": {
    "slideshow": {
     "slide_type": "subslide"
    },
    "tags": [
     "remove_input"
    ]
   },
   "outputs": [
    {
     "data": {
      "text/html": [
       "<div>\n",
       "<style scoped>\n",
       "    .dataframe tbody tr th:only-of-type {\n",
       "        vertical-align: middle;\n",
       "    }\n",
       "\n",
       "    .dataframe tbody tr th {\n",
       "        vertical-align: top;\n",
       "    }\n",
       "\n",
       "    .dataframe thead th {\n",
       "        text-align: right;\n",
       "    }\n",
       "</style>\n",
       "<table border=\"1\" class=\"dataframe\">\n",
       "  <thead>\n",
       "    <tr style=\"text-align: right;\">\n",
       "      <th></th>\n",
       "      <th>1_star_reviews</th>\n",
       "      <th>2_star_reviews</th>\n",
       "      <th>3_star_reviews</th>\n",
       "      <th>costs</th>\n",
       "    </tr>\n",
       "  </thead>\n",
       "  <tbody>\n",
       "    <tr>\n",
       "      <th>0</th>\n",
       "      <td>1.0</td>\n",
       "      <td>0.0</td>\n",
       "      <td>1.0</td>\n",
       "      <td>-140.0</td>\n",
       "    </tr>\n",
       "    <tr>\n",
       "      <th>1</th>\n",
       "      <td>2.0</td>\n",
       "      <td>0.0</td>\n",
       "      <td>1.0</td>\n",
       "      <td>-240.0</td>\n",
       "    </tr>\n",
       "    <tr>\n",
       "      <th>2</th>\n",
       "      <td>0.0</td>\n",
       "      <td>0.0</td>\n",
       "      <td>0.0</td>\n",
       "      <td>-0.0</td>\n",
       "    </tr>\n",
       "    <tr>\n",
       "      <th>3</th>\n",
       "      <td>0.0</td>\n",
       "      <td>0.0</td>\n",
       "      <td>0.0</td>\n",
       "      <td>-0.0</td>\n",
       "    </tr>\n",
       "    <tr>\n",
       "      <th>4</th>\n",
       "      <td>0.0</td>\n",
       "      <td>0.0</td>\n",
       "      <td>0.0</td>\n",
       "      <td>-0.0</td>\n",
       "    </tr>\n",
       "  </tbody>\n",
       "</table>\n",
       "</div>"
      ],
      "text/plain": [
       "   1_star_reviews  2_star_reviews  3_star_reviews  costs\n",
       "0             1.0             0.0             1.0 -140.0\n",
       "1             2.0             0.0             1.0 -240.0\n",
       "2             0.0             0.0             0.0   -0.0\n",
       "3             0.0             0.0             0.0   -0.0\n",
       "4             0.0             0.0             0.0   -0.0"
      ]
     },
     "execution_count": 6,
     "metadata": {},
     "output_type": "execute_result"
    }
   ],
   "source": [
    "data['costs'] = (data['3_star_reviews'] * -40) + (data['2_star_reviews'] * -50) + (data['1_star_reviews'] * -100)\n",
    "data[['1_star_reviews','2_star_reviews','3_star_reviews','costs']].head()"
   ]
  },
  {
   "cell_type": "code",
   "execution_count": 7,
   "metadata": {
    "slideshow": {
     "slide_type": "subslide"
    },
    "tags": [
     "remove_input"
    ]
   },
   "outputs": [
    {
     "data": {
      "text/html": [
       "<div>\n",
       "<style scoped>\n",
       "    .dataframe tbody tr th:only-of-type {\n",
       "        vertical-align: middle;\n",
       "    }\n",
       "\n",
       "    .dataframe tbody tr th {\n",
       "        vertical-align: top;\n",
       "    }\n",
       "\n",
       "    .dataframe thead th {\n",
       "        text-align: right;\n",
       "    }\n",
       "</style>\n",
       "<table border=\"1\" class=\"dataframe\">\n",
       "  <thead>\n",
       "    <tr style=\"text-align: right;\">\n",
       "      <th></th>\n",
       "      <th>revenues</th>\n",
       "      <th>costs</th>\n",
       "      <th>profits</th>\n",
       "    </tr>\n",
       "  </thead>\n",
       "  <tbody>\n",
       "    <tr>\n",
       "      <th>0</th>\n",
       "      <td>421.87</td>\n",
       "      <td>-140.0</td>\n",
       "      <td>281.87</td>\n",
       "    </tr>\n",
       "    <tr>\n",
       "      <th>1</th>\n",
       "      <td>2370.31</td>\n",
       "      <td>-240.0</td>\n",
       "      <td>2130.31</td>\n",
       "    </tr>\n",
       "    <tr>\n",
       "      <th>2</th>\n",
       "      <td>95.80</td>\n",
       "      <td>-0.0</td>\n",
       "      <td>95.80</td>\n",
       "    </tr>\n",
       "    <tr>\n",
       "      <th>3</th>\n",
       "      <td>88.00</td>\n",
       "      <td>-0.0</td>\n",
       "      <td>88.00</td>\n",
       "    </tr>\n",
       "    <tr>\n",
       "      <th>4</th>\n",
       "      <td>96.80</td>\n",
       "      <td>-0.0</td>\n",
       "      <td>96.80</td>\n",
       "    </tr>\n",
       "  </tbody>\n",
       "</table>\n",
       "</div>"
      ],
      "text/plain": [
       "   revenues  costs  profits\n",
       "0    421.87 -140.0   281.87\n",
       "1   2370.31 -240.0  2130.31\n",
       "2     95.80   -0.0    95.80\n",
       "3     88.00   -0.0    88.00\n",
       "4     96.80   -0.0    96.80"
      ]
     },
     "execution_count": 7,
     "metadata": {},
     "output_type": "execute_result"
    }
   ],
   "source": [
    "data['profits'] = data['revenues'] + data['costs']\n",
    "data[['revenues','costs','profits']].head()"
   ]
  },
  {
   "cell_type": "code",
   "execution_count": 8,
   "metadata": {
    "slideshow": {
     "slide_type": "subslide"
    },
    "tags": [
     "remove_input"
    ]
   },
   "outputs": [
    {
     "data": {
      "text/html": [
       "<div>\n",
       "<style scoped>\n",
       "    .dataframe tbody tr th:only-of-type {\n",
       "        vertical-align: middle;\n",
       "    }\n",
       "\n",
       "    .dataframe tbody tr th {\n",
       "        vertical-align: top;\n",
       "    }\n",
       "\n",
       "    .dataframe thead th {\n",
       "        text-align: right;\n",
       "    }\n",
       "</style>\n",
       "<table border=\"1\" class=\"dataframe\">\n",
       "  <thead>\n",
       "    <tr style=\"text-align: right;\">\n",
       "      <th></th>\n",
       "      <th>seller_id</th>\n",
       "      <th>revenues</th>\n",
       "      <th>costs</th>\n",
       "      <th>profits</th>\n",
       "      <th>orders</th>\n",
       "    </tr>\n",
       "  </thead>\n",
       "  <tbody>\n",
       "    <tr>\n",
       "      <th>901</th>\n",
       "      <td>53243585a1d6dc2643021fd1853d8905</td>\n",
       "      <td>23317.60</td>\n",
       "      <td>-6040.0</td>\n",
       "      <td>17277.60</td>\n",
       "      <td>358</td>\n",
       "    </tr>\n",
       "    <tr>\n",
       "      <th>557</th>\n",
       "      <td>fa1c13f2614d7b5c4749cbc52fecda94</td>\n",
       "      <td>21084.20</td>\n",
       "      <td>-6510.0</td>\n",
       "      <td>14574.20</td>\n",
       "      <td>585</td>\n",
       "    </tr>\n",
       "    <tr>\n",
       "      <th>68</th>\n",
       "      <td>7e93a43ef30c4f03f38b393420bc753a</td>\n",
       "      <td>19403.19</td>\n",
       "      <td>-4840.0</td>\n",
       "      <td>14563.19</td>\n",
       "      <td>336</td>\n",
       "    </tr>\n",
       "    <tr>\n",
       "      <th>2241</th>\n",
       "      <td>edb1ef5e36e0c8cd84eb3c9b003e486d</td>\n",
       "      <td>8888.46</td>\n",
       "      <td>-1570.0</td>\n",
       "      <td>7318.46</td>\n",
       "      <td>166</td>\n",
       "    </tr>\n",
       "    <tr>\n",
       "      <th>9</th>\n",
       "      <td>ccc4bbb5f32a6ab2b7066a4130f114e3</td>\n",
       "      <td>9000.46</td>\n",
       "      <td>-2300.0</td>\n",
       "      <td>6700.46</td>\n",
       "      <td>187</td>\n",
       "    </tr>\n",
       "    <tr>\n",
       "      <th>...</th>\n",
       "      <td>...</td>\n",
       "      <td>...</td>\n",
       "      <td>...</td>\n",
       "      <td>...</td>\n",
       "      <td>...</td>\n",
       "    </tr>\n",
       "    <tr>\n",
       "      <th>1413</th>\n",
       "      <td>cc419e0650a3c5ba77189a1882b7556a</td>\n",
       "      <td>12028.84</td>\n",
       "      <td>-31070.0</td>\n",
       "      <td>-19041.16</td>\n",
       "      <td>1706</td>\n",
       "    </tr>\n",
       "    <tr>\n",
       "      <th>2463</th>\n",
       "      <td>4a3ca9315b744ce9f8e9374361493884</td>\n",
       "      <td>21727.29</td>\n",
       "      <td>-44620.0</td>\n",
       "      <td>-22892.71</td>\n",
       "      <td>1806</td>\n",
       "    </tr>\n",
       "    <tr>\n",
       "      <th>1182</th>\n",
       "      <td>7c67e1448b00f6e969d365cea6b010ab</td>\n",
       "      <td>20312.39</td>\n",
       "      <td>-44290.0</td>\n",
       "      <td>-23977.61</td>\n",
       "      <td>982</td>\n",
       "    </tr>\n",
       "    <tr>\n",
       "      <th>474</th>\n",
       "      <td>1f50f920176fa81dab994f9023523100</td>\n",
       "      <td>12133.92</td>\n",
       "      <td>-37490.0</td>\n",
       "      <td>-25356.08</td>\n",
       "      <td>1404</td>\n",
       "    </tr>\n",
       "    <tr>\n",
       "      <th>797</th>\n",
       "      <td>6560211a19b47992c3666cc44a7e94c0</td>\n",
       "      <td>13850.48</td>\n",
       "      <td>-40120.0</td>\n",
       "      <td>-26269.52</td>\n",
       "      <td>1854</td>\n",
       "    </tr>\n",
       "  </tbody>\n",
       "</table>\n",
       "<p>3095 rows × 5 columns</p>\n",
       "</div>"
      ],
      "text/plain": [
       "                             seller_id  revenues    costs   profits  orders\n",
       "901   53243585a1d6dc2643021fd1853d8905  23317.60  -6040.0  17277.60     358\n",
       "557   fa1c13f2614d7b5c4749cbc52fecda94  21084.20  -6510.0  14574.20     585\n",
       "68    7e93a43ef30c4f03f38b393420bc753a  19403.19  -4840.0  14563.19     336\n",
       "2241  edb1ef5e36e0c8cd84eb3c9b003e486d   8888.46  -1570.0   7318.46     166\n",
       "9     ccc4bbb5f32a6ab2b7066a4130f114e3   9000.46  -2300.0   6700.46     187\n",
       "...                                ...       ...      ...       ...     ...\n",
       "1413  cc419e0650a3c5ba77189a1882b7556a  12028.84 -31070.0 -19041.16    1706\n",
       "2463  4a3ca9315b744ce9f8e9374361493884  21727.29 -44620.0 -22892.71    1806\n",
       "1182  7c67e1448b00f6e969d365cea6b010ab  20312.39 -44290.0 -23977.61     982\n",
       "474   1f50f920176fa81dab994f9023523100  12133.92 -37490.0 -25356.08    1404\n",
       "797   6560211a19b47992c3666cc44a7e94c0  13850.48 -40120.0 -26269.52    1854\n",
       "\n",
       "[3095 rows x 5 columns]"
      ]
     },
     "execution_count": 8,
     "metadata": {},
     "output_type": "execute_result"
    }
   ],
   "source": [
    "data_key_findings = data[['seller_id','revenues','costs','profits','orders']]\n",
    "data_key_findings = data_key_findings.sort_values('profits', ascending=False)\n",
    "data_key_findings"
   ]
  },
  {
   "cell_type": "code",
   "execution_count": 9,
   "metadata": {
    "slideshow": {
     "slide_type": "subslide"
    },
    "tags": [
     "remove_input"
    ]
   },
   "outputs": [
    {
     "name": "stdout",
     "output_type": "stream",
     "text": [
      "OLIST TOTALS\n",
      "\n",
      "sellers:                   3095\n",
      "orders:                  100010\n",
      "\n",
      "profits:                1200814.75\n",
      "IT costs:               -500000\n",
      "\n",
      "profit after IT costs:   700814.75\n"
     ]
    }
   ],
   "source": [
    "sellers = len(data)\n",
    "orders = data['orders'].sum()\n",
    "profits = data['profits'].sum()\n",
    "it_costs = -500000\n",
    "profits_after_it_costs = profits + it_costs\n",
    "\n",
    "print('OLIST TOTALS')\n",
    "print()\n",
    "print('sellers:', end='                   ')\n",
    "print(sellers)\n",
    "print('orders:', end='                  ')    \n",
    "print(orders)\n",
    "print()\n",
    "print('profits:', end='                ') \n",
    "print(profits)\n",
    "print('IT costs:', end='               ')\n",
    "print(it_costs)\n",
    "print()\n",
    "print('profit after IT costs:', end='   ')\n",
    "print(profits_after_it_costs)"
   ]
  },
  {
   "cell_type": "code",
   "execution_count": 10,
   "metadata": {
    "slideshow": {
     "slide_type": "subslide"
    }
   },
   "outputs": [
    {
     "data": {
      "text/plain": [
       "-1581.059779071462"
      ]
     },
     "execution_count": 10,
     "metadata": {},
     "output_type": "execute_result"
    }
   ],
   "source": [
    "it_cost_ratio = -500000/orders**.5\n",
    "it_cost_ratio"
   ]
  },
  {
   "cell_type": "code",
   "execution_count": 11,
   "metadata": {
    "scrolled": true,
    "slideshow": {
     "slide_type": "subslide"
    }
   },
   "outputs": [
    {
     "name": "stdout",
     "output_type": "stream",
     "text": [
      "-500000.0\n",
      "-707071.0\n",
      "-353571.0\n"
     ]
    }
   ],
   "source": [
    "def orders_to_it_costs(orders):\n",
    "    it_costs = (orders**.5) * it_cost_ratio\n",
    "    return round(it_costs)\n",
    "\n",
    "print(orders_to_it_costs(100010))\n",
    "print(orders_to_it_costs(200000))\n",
    "print(orders_to_it_costs(50010))"
   ]
  },
  {
   "cell_type": "code",
   "execution_count": 12,
   "metadata": {
    "slideshow": {
     "slide_type": "subslide"
    },
    "tags": [
     "remove_input"
    ]
   },
   "outputs": [
    {
     "data": {
      "image/png": "[encoded data removed]",
      "text/plain": [
       "<Figure size 720x360 with 1 Axes>"
      ]
     },
     "metadata": {
      "needs_background": "light"
     },
     "output_type": "display_data"
    }
   ],
   "source": [
    "n_orders_list = [n for n in range(200000)]\n",
    "it_costs_list = []\n",
    "\n",
    "for n in n_orders_list:\n",
    "    it_costs_list.append(abs(orders_to_it_costs(n)))\n",
    "    \n",
    "plt.figure(figsize=(10,5))\n",
    "plt.plot(n_orders_list, it_costs_list)\n",
    "plt.xlabel('number of orders')\n",
    "plt.ylabel('IT costs')\n",
    "plt.ticklabel_format(style='plain');"
   ]
  },
  {
   "cell_type": "markdown",
   "metadata": {
    "slideshow": {
     "slide_type": "subslide"
    }
   },
   "source": [
    "def remove_low_performers(n_to_remove):\n",
    "    \n",
    "    n_remaining = sellers - n_to_remove\n",
    "    \n",
    "    orders_removed = data_key_findings['orders'][n_remaining:].sum()\n",
    "    \n",
    "    profits = round(data_key_findings['profits'][:n_remaining].sum(),2)\n",
    "    \n",
    "    it_costs = orders_to_it_costs(orders - orders_removed)\n",
    "    \n",
    "    profits_after_it_costs = round(profits + it_costs,2)"
   ]
  },
  {
   "cell_type": "code",
   "execution_count": 13,
   "metadata": {
    "slideshow": {
     "slide_type": "skip"
    }
   },
   "outputs": [],
   "source": [
    "def remove_low_performers_summary(n_to_remove):\n",
    "    \n",
    "    n_remaining = sellers - n_to_remove\n",
    "    orders_removed = data_key_findings['orders'][n_remaining:].sum()\n",
    "    \n",
    "    profits = round(data_key_findings['profits'][:n_remaining].sum(),2)\n",
    "    it_costs = orders_to_it_costs(orders - orders_removed)\n",
    "    profits_after_it_costs = round(profits + it_costs,2)\n",
    "    \n",
    "    print(f'sellers removed: {n_to_remove}')\n",
    "    print(f'orders removed: {orders_removed}')\n",
    "    print()\n",
    "    print(f'profits: {profits}')\n",
    "    print(f'it costs: {it_costs}')\n",
    "    print()\n",
    "    print(f'profit after IT costs: {profits_after_it_costs}')"
   ]
  },
  {
   "cell_type": "code",
   "execution_count": 14,
   "metadata": {
    "slideshow": {
     "slide_type": "subslide"
    },
    "tags": [
     "remove_input"
    ]
   },
   "outputs": [
    {
     "name": "stdout",
     "output_type": "stream",
     "text": [
      "sellers removed: 0\n",
      "orders removed: 0\n",
      "\n",
      "profits: 1200814.75\n",
      "it costs: -500000.0\n",
      "\n",
      "profit after IT costs: 700814.75\n",
      "\n",
      "(same as before)\n"
     ]
    }
   ],
   "source": [
    "remove_low_performers_summary(0)\n",
    "\n",
    "print()\n",
    "print('(same as before)')\n"
   ]
  },
  {
   "cell_type": "code",
   "execution_count": 15,
   "metadata": {
    "slideshow": {
     "slide_type": "subslide"
    },
    "tags": [
     "remove_input"
    ]
   },
   "outputs": [
    {
     "name": "stdout",
     "output_type": "stream",
     "text": [
      "sellers removed: 3095\n",
      "orders removed: 100010\n",
      "\n",
      "profits: 0.0\n",
      "it costs: -0.0\n",
      "\n",
      "profit after IT costs: 0.0\n",
      "\n",
      "(zero sellers = zero profit)\n"
     ]
    }
   ],
   "source": [
    "remove_low_performers_summary(3095)\n",
    "\n",
    "print()\n",
    "print(\"(zero sellers = zero profit)\")"
   ]
  },
  {
   "cell_type": "code",
   "execution_count": 16,
   "metadata": {
    "slideshow": {
     "slide_type": "subslide"
    },
    "tags": [
     "remove_input"
    ]
   },
   "outputs": [
    {
     "name": "stdout",
     "output_type": "stream",
     "text": [
      "sellers removed: 1\n",
      "orders removed: 1854\n",
      "\n",
      "profits: 1227084.27\n",
      "it costs: -495344.0\n",
      "\n",
      "profit after IT costs: 731740.27\n"
     ]
    }
   ],
   "source": [
    "remove_low_performers_summary(1)"
   ]
  },
  {
   "cell_type": "code",
   "execution_count": 17,
   "metadata": {
    "slideshow": {
     "slide_type": "subslide"
    },
    "tags": [
     "remove_input"
    ]
   },
   "outputs": [
    {
     "name": "stdout",
     "output_type": "stream",
     "text": [
      "sellers removed: 10\n",
      "orders removed: 11703\n",
      "\n",
      "profits: 1393356.84\n",
      "it costs: -469836.0\n",
      "\n",
      "profit after IT costs: 923520.84\n"
     ]
    }
   ],
   "source": [
    "remove_low_performers_summary(10)"
   ]
  },
  {
   "cell_type": "code",
   "execution_count": 18,
   "metadata": {
    "scrolled": true,
    "slideshow": {
     "slide_type": "subslide"
    },
    "tags": [
     "remove_input"
    ]
   },
   "outputs": [
    {
     "name": "stdout",
     "output_type": "stream",
     "text": [
      "sellers removed: 100\n",
      "orders removed: 33989\n",
      "\n",
      "profits: 1646451.97\n",
      "it costs: -406246.0\n",
      "\n",
      "profit after IT costs: 1240205.97\n"
     ]
    }
   ],
   "source": [
    "remove_low_performers_summary(100)"
   ]
  },
  {
   "cell_type": "code",
   "execution_count": 19,
   "metadata": {
    "scrolled": true,
    "slideshow": {
     "slide_type": "skip"
    },
    "tags": [
     "remove_input"
    ]
   },
   "outputs": [],
   "source": [
    "def remove_low_performers(n_to_remove):\n",
    "    \n",
    "    n_remaining = sellers - n_to_remove\n",
    "    orders_removed = data_key_findings['orders'][n_remaining:].sum()\n",
    "    \n",
    "    profits = round(data_key_findings['profits'][:n_remaining].sum(),2)\n",
    "    it_costs = orders_to_it_costs(orders - orders_removed)\n",
    "    profits_after_it_costs = round(profits + it_costs,2)\n",
    "    \n",
    "    return profits_after_it_costs"
   ]
  },
  {
   "cell_type": "code",
   "execution_count": 20,
   "metadata": {
    "slideshow": {
     "slide_type": "skip"
    },
    "tags": [
     "remove_input"
    ]
   },
   "outputs": [
    {
     "name": "stdout",
     "output_type": "stream",
     "text": [
      "[0, 1, 2, 3, 4, 5, 6, 7, 8, 9]\n",
      "[700814.75, 731740.27, 760652.35, 787131.96, 814659.67, 838120.83, 858915.08, 877510.22, 895825.65, 911052.26]\n"
     ]
    }
   ],
   "source": [
    "sellers_list = [n for n in range(sellers+1)]\n",
    "profits_list = []\n",
    "\n",
    "for n in sellers_list:\n",
    "    profits_list.append(remove_low_performers(n))\n",
    "    \n",
    "print(sellers_list[0:10])\n",
    "print(profits_list[0:10])"
   ]
  },
  {
   "cell_type": "code",
   "execution_count": 21,
   "metadata": {
    "slideshow": {
     "slide_type": "subslide"
    },
    "tags": [
     "remove_input"
    ]
   },
   "outputs": [
    {
     "data": {
      "image/png": "[encoded data removed]",
      "text/plain": [
       "<Figure size 720x360 with 1 Axes>"
      ]
     },
     "metadata": {
      "needs_background": "light"
     },
     "output_type": "display_data"
    }
   ],
   "source": [
    "plt.figure(figsize=(10,5))\n",
    "plt.plot(sellers_list, profits_list)\n",
    "plt.xlabel('sellers cut')\n",
    "plt.ylabel('total profit')\n",
    "plt.ticklabel_format(style='plain');"
   ]
  },
  {
   "cell_type": "code",
   "execution_count": 22,
   "metadata": {
    "slideshow": {
     "slide_type": "skip"
    }
   },
   "outputs": [
    {
     "name": "stdout",
     "output_type": "stream",
     "text": [
      "258\n",
      "1316208.55\n"
     ]
    }
   ],
   "source": [
    "max_profit = max(profits_list)\n",
    "n_sellers_to_remove = sellers_list[profits_list.index(max_profit)]\n",
    "\n",
    "print(n_sellers_to_remove)\n",
    "print(max_profit)"
   ]
  },
  {
   "cell_type": "code",
   "execution_count": 23,
   "metadata": {
    "scrolled": true,
    "slideshow": {
     "slide_type": "subslide"
    },
    "tags": [
     "remove_input"
    ]
   },
   "outputs": [
    {
     "name": "stdout",
     "output_type": "stream",
     "text": [
      "OPTIMAL REMOVAL\n",
      "\n",
      "sellers removed: 258\n",
      "orders removed: 44872\n",
      "\n",
      "profits: 1687464.55\n",
      "it costs: -371256.0\n",
      "\n",
      "profit after IT costs: 1316208.55\n"
     ]
    }
   ],
   "source": [
    "print(\"OPTIMAL REMOVAL\")\n",
    "print()\n",
    "\n",
    "remove_low_performers_summary(n_sellers_to_remove)"
   ]
  }
 ],
 "metadata": {
  "celltoolbar": "Slideshow",
  "kernelspec": {
   "display_name": "Python 3 (ipykernel)",
   "language": "python",
   "name": "python3"
  },
  "language_info": {
   "codemirror_mode": {
    "name": "ipython",
    "version": 3
   },
   "file_extension": ".py",
   "mimetype": "text/x-python",
   "name": "python",
   "nbconvert_exporter": "python",
   "pygments_lexer": "ipython3",
   "version": "3.8.12"
  },
  "toc": {
   "base_numbering": 1,
   "nav_menu": {},
   "number_sections": true,
   "sideBar": true,
   "skip_h1_title": false,
   "title_cell": "Table of Contents",
   "title_sidebar": "Contents",
   "toc_cell": false,
   "toc_position": {},
   "toc_section_display": true,
   "toc_window_display": false
  }
 },
 "nbformat": 4,
 "nbformat_minor": 4
}
